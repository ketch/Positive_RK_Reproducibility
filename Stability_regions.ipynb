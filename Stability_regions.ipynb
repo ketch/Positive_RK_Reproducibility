{
 "cells": [
  {
   "cell_type": "markdown",
   "metadata": {},
   "source": [
    "# Plots of stability regions"
   ]
  },
  {
   "cell_type": "code",
   "execution_count": null,
   "metadata": {},
   "outputs": [],
   "source": [
    "import numpy as np\n",
    "import scipy.linalg as linalg\n",
    "import matplotlib.pyplot as plt\n",
    "import matplotlib.lines as mlines\n",
    "import matplotlib as mpl\n",
    "\n",
    "from nodepy import rk\n",
    "\n",
    "from OrderCondition import *\n",
    "\n",
    "import plot_fkt\n",
    "plot_fkt.setup_plt()\n",
    "\n",
    "mpl.rcParams['hatch.linewidth'] = 2.0"
   ]
  },
  {
   "cell_type": "code",
   "execution_count": null,
   "metadata": {},
   "outputs": [],
   "source": [
    "def plot_stab(stab_function,color,fill=None,xmin=-10,xmax=10,yminmax=10,hatch=None,linewith=3):\n",
    "    p,q = stab_function\n",
    "\n",
    "    # Convert coefficients to floats for speed\n",
    "    if p.coeffs.dtype=='object':\n",
    "        p = np.poly1d([float(c) for c in p.coeffs])\n",
    "    if q.coeffs.dtype=='object':\n",
    "        q = np.poly1d([float(c) for c in q.coeffs])\n",
    "        \n",
    "    u = np.linspace(xmin,xmax,100)\n",
    "    v = np.linspace(-yminmax,yminmax,100)\n",
    "    \n",
    "    U,V = np.meshgrid(u,v)\n",
    "    Q = U+V*1j\n",
    "    R=np.abs(p(Q)/q(Q))\n",
    "\n",
    "    if fill:\n",
    "        plt.pcolormesh(U, V, np.log(R),cmap=plt.get_cmap('seismic'),vmin=-4, vmax=4)\n",
    "        plt.colorbar()\n",
    "    if hatch:\n",
    "        cs = plt.contourf(U,V,R,[0,1],hatches=[hatch],colors='none',alpha=1,extend='neither')\n",
    "        cs.collections[0].set_ec(color)\n",
    "        cs.collections[0].set_fc('none')\n",
    "\n",
    "    plt.contour(U,V,R,[1],colors=[color],alpha=1,linewidths=linewith)\n",
    "    plt.grid()\n",
    "    \n",
    "def calc_stab(rkm,bs):\n",
    "    stab_functions = []\n",
    "    for b in bs:\n",
    "        display(b)\n",
    "        rkm.b = b\n",
    "        stab_functions.append(rkm.stability_function())\n",
    "    return stab_functions\n",
    "\n",
    "def calc_stab_exp(rkm,bs):\n",
    "    stab_functions = []\n",
    "    for b in bs:\n",
    "        display(b)\n",
    "        rkm.b = b\n",
    "        stab_functions.append(rk.ExplicitRungeKuttaMethod(A=rkm.A,b=b).stability_function())\n",
    "    return stab_functions\n",
    "\n",
    "def color(chi,color1=[0,0,1],color2=[0,0,0.5]):\n",
    "    return (chi*color1[0]+(1-chi)*color2[0],chi*color1[1]+(1-chi)*color2[1],chi*color1[2]+(1-chi)*color2[2])"
   ]
  },
  {
   "cell_type": "markdown",
   "metadata": {},
   "source": [
    "# Implicit case\n",
    "\n",
    "We are plotting a convex combination of original BE 3 extrapolation method and the embedded backward Euler scheme."
   ]
  },
  {
   "cell_type": "code",
   "execution_count": null,
   "metadata": {},
   "outputs": [],
   "source": [
    "ex3 = rk.extrap(3,'implicit euler').__num__()\n",
    "\n",
    "chis = np.linspace(0,1,10)\n",
    "bs = []\n",
    "for chi in chis:\n",
    "    bs.append(chi*ex3.b+(1-chi)*np.array([0,0,0,1/3,1/3,1/3]))\n",
    "\n",
    "\n",
    "print('b[0]',bs[0])\n",
    "print('b[-1]',bs[-1])    \n",
    "\n",
    "stab_functions = calc_stab(ex3,bs)\n"
   ]
  },
  {
   "cell_type": "code",
   "execution_count": null,
   "metadata": {},
   "outputs": [],
   "source": [
    "scale = 1.2\n",
    "fig, ax = plt.subplots(1, 1, figsize=(scale*6.4, scale*4.8))\n",
    "\n",
    "for i in range(1,9):\n",
    "    plot_stab(stab_functions[i],(0.5,0.5,0.5))\n",
    "    \n",
    "plot_stab(stab_functions[0],'C0',hatch='/')\n",
    "plot_stab(stab_functions[-1],'C1',hatch='\\\\')\n",
    "\n",
    "be3 = mlines.Line2D([], [], color='C0', label='chain of BE')\n",
    "ex3 = mlines.Line2D([], [], color='C1', label='BE 3 extrapolation')\n",
    "altered = mlines.Line2D([], [], color=(0.5,0.5,0.5),label='convex combination')\n",
    "legend_marker = plt.legend(handles=[be3,ex3,altered],loc='upper left')\n",
    "plt.gca().add_artist(legend_marker)\n",
    "\n",
    "plt.grid()\n",
    "plt.savefig('stab_ex3.pdf', bbox_inches=\"tight\")"
   ]
  },
  {
   "cell_type": "markdown",
   "metadata": {},
   "source": [
    "# Explicit case"
   ]
  },
  {
   "cell_type": "code",
   "execution_count": null,
   "metadata": {},
   "outputs": [],
   "source": [
    "dp5_or = rk.loadRKM('DP5').__num__()\n",
    "dp5 = rk.ExplicitRungeKuttaMethod(A=dp5_or.A,b=dp5_or.b) #get rid of embedded method\n",
    "b_org=dp5_or.b\n"
   ]
  },
  {
   "cell_type": "code",
   "execution_count": null,
   "metadata": {},
   "outputs": [],
   "source": [
    "b = np.load('b_ex_adde.npy') #Data from the notebook Convergence.ipynb"
   ]
  },
  {
   "cell_type": "code",
   "execution_count": null,
   "metadata": {},
   "outputs": [],
   "source": [
    "b.shape"
   ]
  },
  {
   "cell_type": "code",
   "execution_count": null,
   "metadata": {},
   "outputs": [],
   "source": [
    "bs = []\n",
    "norm = np.zeros((b.shape[2]))\n",
    "for i in range(0,b.shape[2],1):\n",
    "    b_i = b[:,0,i]\n",
    "    bs.append(b_i)\n",
    "    norm[i] =np.linalg.norm(b_i-b_org,ord=1)"
   ]
  },
  {
   "cell_type": "code",
   "execution_count": null,
   "metadata": {},
   "outputs": [],
   "source": [
    "stab_functions = calc_stab_exp(dp5,bs)"
   ]
  },
  {
   "cell_type": "code",
   "execution_count": null,
   "metadata": {},
   "outputs": [],
   "source": [
    "scale = 1.2\n",
    "fig, ax = plt.subplots(1, 1, figsize=(scale*6.4, scale*4.8))\n",
    "\n",
    "#setup colormap\n",
    "cmap = plt.cm.viridis\n",
    "\n",
    "i_max = np.argmax(norm)\n",
    "display(i_max)\n",
    "\n",
    "norm_color = lambda n: cmap(0.2+0.6*(n/norm[i_max]))\n",
    "\n",
    "for i in range(len(bs)):\n",
    "    print(i)\n",
    "    display(stab_functions[i])\n",
    "    plot_stab(stab_functions[i],norm_color(norm[i]),xmax=2,xmin=-6,yminmax=5,linewith=2)\n",
    "\n",
    "dp5 = rk.ExplicitRungeKuttaMethod(A=dp5_or.A,b=dp5_or.b)\n",
    "stab_orig = dp5.stability_function()\n",
    "plot_stab(stab_orig,norm_color(0),xmax=2,xmin=-6,yminmax=5,hatch='/',linewith=3)\n",
    "plt.grid(1)\n",
    "\n",
    "\n",
    "\n",
    "stab_max=rk.ExplicitRungeKuttaMethod(A=dp5_or.A,b=bs[i_max]).stability_function()\n",
    "plot_stab(stab_max,norm_color(norm[i_max]),xmax=2,xmin=-6,yminmax=5,hatch='\\\\',linewith=3)\n",
    "\n",
    "#I = [[0.2,0.2+0.6]]\n",
    "#im = plt.imshow(I, cmap='viridis',extent=(-1,0,-1,0),vmax=1,vmin=0)\n",
    "#ax[0].colorbar(m, loc='ll', label='colorbar label')\n",
    "#I = [[0.2,0.2+0.6],[0.2,0.2+0.6]]\n",
    "\n",
    "#im = ax.pcolor([[1,0],[1,0]],[[0,0],[1,1]],I,cmap='viridis',extent=(-1,0,-1,0),vmax=1,vmin=0)\n",
    "\n",
    "original = mlines.Line2D([], [], color=norm_color(0), label='Dormand--Prince RK5')\n",
    "max_altered = mlines.Line2D([], [], color=norm_color(norm[i_max]), label=r'$\\tilde{b} = $argmax$_{\\tilde{b}} \\| \\tilde{b} - b \\|_1$')\n",
    "altered = mlines.Line2D([], [], color=(0.5,0.5,0.5),label=r'other $\\tilde{b}$')\n",
    "legend_marker = plt.legend(handles=[original,max_altered], loc='upper left')#ncol=2\n",
    "#loc='center right'xmax=8,xmin=-5.5,yminmax=5.5\n",
    "plt.gca().add_artist(legend_marker)\n",
    "\n",
    "\n",
    "from mpl_toolkits.axes_grid1.inset_locator import inset_axes\n",
    "\n",
    "axins1 = inset_axes(ax,\n",
    "                    width=\"50%\",  # width = 50% of parent_bbox width\n",
    "                    height=\"5%\",  # height : 5%\n",
    "                    loc='lower left')\n",
    "\n",
    "\n",
    "#im1 = ax.imshow([[1, 2], [2, 3]])\n",
    "normalize = mpl.colors.Normalize(vmin=0, vmax=1)\n",
    "cb1 = mpl.colorbar.ColorbarBase(axins1, cmap=cmap,\n",
    "                                norm=normalize,\n",
    "                                orientation='horizontal',\n",
    "                               boundaries=np.linspace(0.2,0.8),\n",
    "                               ticks=[0.2,0.8])\n",
    "cb1.set_ticklabels(['0',str(round(norm[i_max],3))], update_ticks=True)\n",
    "#fig.colorbar(im, cax=axins1, orientation=\"horizontal\", ticks=[1, 2, 3])\n",
    "axins1.xaxis.set_ticks_position(\"top\")\n",
    "axins1.xaxis.set_label(\"top\")\n",
    "#plt.text(60, .025, r'$ \\| \\tilde{b} - b \\|_1$')\n",
    "axins1.text(0.5,1.7,r'$ \\| \\tilde{b} - b \\|_1$',horizontalalignment='center')\n",
    "\n",
    "ax.set_xlim(-10,2)\n",
    "ax.set_ylim(-5,6)\n",
    "\n",
    "plt.savefig('stab_dp5.pdf', bbox_inches=\"tight\")\n"
   ]
  },
  {
   "cell_type": "code",
   "execution_count": null,
   "metadata": {},
   "outputs": [],
   "source": [
    "dp5 = rk.ExplicitRungeKuttaMethod(A=dp5_or.A,b=dp5_or.b)\n",
    "stab_orig = dp5.stability_function()\n",
    "plot_stab(stab_orig,(0,0,0.5,1),xmax=5,xmin=-5,yminmax=5)"
   ]
  },
  {
   "cell_type": "code",
   "execution_count": null,
   "metadata": {},
   "outputs": [],
   "source": []
  },
  {
   "cell_type": "code",
   "execution_count": null,
   "metadata": {},
   "outputs": [],
   "source": []
  }
 ],
 "metadata": {
  "kernelspec": {
   "display_name": "Python 3",
   "language": "python",
   "name": "python3"
  },
  "language_info": {
   "codemirror_mode": {
    "name": "ipython",
    "version": 3
   },
   "file_extension": ".py",
   "mimetype": "text/x-python",
   "name": "python",
   "nbconvert_exporter": "python",
   "pygments_lexer": "ipython3",
   "version": "3.7.6"
  }
 },
 "nbformat": 4,
 "nbformat_minor": 2
}
