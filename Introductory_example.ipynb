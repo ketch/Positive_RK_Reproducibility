{
 "cells": [
  {
   "cell_type": "markdown",
   "metadata": {},
   "source": [
    "# Introductory example"
   ]
  },
  {
   "cell_type": "code",
   "execution_count": null,
   "metadata": {},
   "outputs": [],
   "source": [
    "import numpy as np\n",
    "import matplotlib.pyplot as plt\n",
    "import matplotlib.gridspec as gridspec\n",
    "from nodepy import rk\n",
    "import cvxpy as cp\n",
    "\n",
    "import plot_fkt\n",
    "plot_fkt.setup_plt()\n",
    "\n",
    "import numpy.linalg as linalg\n",
    "\n",
    "from numba import jit, float64\n",
    "\n",
    "fe =rk.loadRKM('FE').__num__()\n",
    "rk4 = rk.loadRKM('RK44').__num__()\n",
    "rk4x2 = rk4*rk4\n",
    "ssp2 = rk.loadRKM('SSP22').__num__()\n",
    "ssp3 = rk.loadRKM('SSP33').__num__()\n",
    "ssp104 = rk.loadRKM('SSP104').__num__()\n",
    "merson4 = rk.loadRKM('Merson43').__num__()\n",
    "bs5 = rk.loadRKM('BS5').__num__()\n",
    "\n",
    "ck5 = rk.loadRKM('CK5').__num__()\n",
    "dp5 = rk.loadRKM('DP5').__num__()\n",
    "pd8 = rk.loadRKM('PD8').__num__()\n",
    "\n",
    "trbdf = rk.loadRKM('TR-BDF2').__num__()\n",
    "be = rk.loadRKM('BE').__num__()\n",
    "irk2 = rk.loadRKM('LobattoIIIA2').__num__()\n",
    "\n",
    "\n",
    "\n",
    "#Extrapolation method\n",
    "ex2 = rk.extrap(2,'implicit euler').__num__()\n",
    "ex3 = rk.extrap(3,'implicit euler').__num__()\n",
    "ex4 = rk.extrap(4,'implicit euler').__num__()\n",
    "ex5 = rk.extrap(5,'implicit euler').__num__()\n",
    "ex6 = rk.extrap(6,'implicit euler').__num__()\n",
    "ex8 = rk.extrap(8,'implicit euler').__num__()\n",
    "\n",
    "from OrderCondition import *\n",
    "from RKimple import *\n",
    "import utils "
   ]
  },
  {
   "cell_type": "markdown",
   "metadata": {},
   "source": [
    "# Example I"
   ]
  },
  {
   "cell_type": "code",
   "execution_count": null,
   "metadata": {},
   "outputs": [],
   "source": [
    "@jit(float64[:](float64,float64[:]),nopython=True)\n",
    "def f_prod(t,u):\n",
    "        du = np.zeros(4)\n",
    "        du[0] = 0.01*u[1]+0.01*u[2]+0.003*u[3]-(u[0]*u[1])/(0.01+u[0])\n",
    "        du[1] = (u[0]*u[1])/(0.01+u[0])-0.01*u[1]-0.5*(1-np.exp(-1.21*u[1]**2))*u[2]-0.05*u[1]\n",
    "        du[2] = 0.5*(1-np.exp(-1.21*u[1]**2))*u[2]-0.01*u[2]-0.02*u[2]\n",
    "        du[3] = 0.05*u[1] + 0.02*u[2]-0.003*u[3]\n",
    "        return du\n",
    "    \n",
    "dt = 0.005 #standard\n",
    "#dt = 0.00001"
   ]
  },
  {
   "cell_type": "code",
   "execution_count": null,
   "metadata": {},
   "outputs": [],
   "source": [
    "#u0 = np.array([1.,1.,1.,1.])\n",
    "\n",
    "u0 = np.array([8.,2.,1.,4.])\n",
    "\n",
    "\n",
    "\n",
    "solver = Solver(rkm = dp5,\n",
    "               dt = dt,\n",
    "               t_final = 6,\n",
    "               b_fixed=False,\n",
    "               tol_neg=0,\n",
    "               tol_change = 5,\n",
    "               p = [4],\n",
    "               theta = [1],\n",
    "               solver = 'scipy_ip',\n",
    "               LP_opts = {'verbose_LP':False})\n",
    "\n",
    "problem_reaction = Problem(f=f_prod,\n",
    "                 u0=u0,\n",
    "                 minval=0,\n",
    "                 maxval=np.inf)\n",
    "\n",
    "#t,u,b,KK = RK_variable_b(ssp104,dt,f_prod,u0,t_final=5,b_fixed=False,dumpK=True)\n",
    "status,t,u,b,KK = RK_integrate(solver=solver,problem=problem_reaction,verbose=False,dumpK=True)\n",
    "\n",
    "t = np.array(t)\n",
    "u_a = np.array(u).T\n",
    "b_a = np.array(b).T\n",
    "utils.show_status(status)"
   ]
  },
  {
   "cell_type": "code",
   "execution_count": null,
   "metadata": {},
   "outputs": [],
   "source": [
    "u0 = np.array([8.,2.,1.,4.])\n",
    " #ssp104\n",
    "\n",
    "solver = Solver(rkm = dp5,\n",
    "               dt = dt,\n",
    "               t_final = 6,\n",
    "               b_fixed=True,\n",
    "               tol_neg=0,\n",
    "               tol_change = 5,\n",
    "               p = [4,3,2],\n",
    "               theta = [1],\n",
    "               solver = 'scipy_ip',\n",
    "               LP_opts = {'verbose_LP':False})\n",
    "\n",
    "problem_reaction = Problem(f=f_prod,\n",
    "                 u0=u0,\n",
    "                 minval=0,\n",
    "                 maxval=np.inf)\n",
    "\n",
    "#t,u,b,KK = RK_variable_b(ssp104,dt,f_prod,u0,t_final=5,b_fixed=False,dumpK=True)\n",
    "status_r,t,u,b,KK = RK_integrate(solver=solver,problem=problem_reaction,verbose=False,dumpK=True)\n",
    "\n",
    "t = np.array(t)\n",
    "u_r = np.array(u).T\n",
    "b_r = np.array(b).T\n",
    "utils.show_status(status_r)"
   ]
  },
  {
   "cell_type": "code",
   "execution_count": null,
   "metadata": {},
   "outputs": [],
   "source": [
    "fig = plt.figure(figsize=[6.4*1.5, 4*1.5])\n",
    "\n",
    "gs1 = gridspec.GridSpec(3, 2)\n",
    "ax1 = fig.add_subplot(gs1[0:2,0])\n",
    "ax2 = fig.add_subplot(gs1[2,0])\n",
    "\n",
    "#fig, (ax1,ax2) = plt.subplots(2,1)\n",
    "\n",
    "ax1.plot(t,u_a[0,:],'-C1',label='$u_1$')\n",
    "ax1.plot(t,u_a[1,:],'-C2',label='$u_2$')\n",
    "ax1.plot(t,u_a[2,:],'-C3',label='$u_3$')\n",
    "ax1.plot(t,u_a[3,:],'-C4',label='$u_4$')\n",
    "\n",
    "\n",
    "ax1.plot(t,u_r[0,:],'--C1',label='$u_1$')\n",
    "ax1.plot(t,u_r[1,:],'--C2',label='$u_2$')\n",
    "ax1.plot(t,u_r[2,:],'--C3',label='$u_3$')\n",
    "ax1.plot(t,u_r[3,:],'--C4',label='$u_4$')\n",
    "\n",
    "\n",
    "ax1.set_ylim(-2,11)\n",
    "\n",
    "ax2.plot(t,np.linalg.norm((b_r-b_a),axis=0,ord=1),'-C5')\n",
    "#ax2.set_ylim(-0.4,0.8)\n",
    "\n",
    "\n",
    "\n",
    "ax1.grid()\n",
    "ax2.grid()\n",
    "\n",
    "\n",
    "ax2.set_xlabel('$t$')\n",
    "ax1.set_ylabel('$u$')\n",
    "ax2.set_ylabel(r'$\\| \\tilde{b} - b \\|_1 $')\n",
    "\n",
    "\n",
    "gs1.tight_layout(fig, rect=[0, 0, 1.6, 1])\n",
    "\n",
    "fig.legend(loc=1)\n",
    "\n",
    "plt.savefig('exampleI.pdf')"
   ]
  },
  {
   "cell_type": "code",
   "execution_count": null,
   "metadata": {},
   "outputs": [],
   "source": [
    "plt.plot(b_a.T)"
   ]
  },
  {
   "cell_type": "code",
   "execution_count": null,
   "metadata": {},
   "outputs": [],
   "source": [
    "#get time of first negative value\n",
    "print(np.min(t[np.min(u_r,axis=0)<0]))\n",
    "#get maximum value for cahnged b\n",
    "print(np.max(t[b_r[1,:]!=b_a[1,:]]))"
   ]
  },
  {
   "cell_type": "code",
   "execution_count": null,
   "metadata": {},
   "outputs": [],
   "source": [
    "t.shape"
   ]
  },
  {
   "cell_type": "code",
   "execution_count": null,
   "metadata": {},
   "outputs": [],
   "source": [
    "print(utils.get_max_iter_h(status))"
   ]
  },
  {
   "cell_type": "code",
   "execution_count": null,
   "metadata": {},
   "outputs": [],
   "source": [
    "'c' in status['b']"
   ]
  },
  {
   "cell_type": "code",
   "execution_count": null,
   "metadata": {},
   "outputs": [],
   "source": [
    "dt = np.array([0,1,2])\n",
    "np.zeros_like(dt,dtype=bool)"
   ]
  },
  {
   "cell_type": "code",
   "execution_count": null,
   "metadata": {},
   "outputs": [],
   "source": [
    "np.save('b_ex1.npy', b_a[:,np.nonzero(dp5.b[0]!=b_a[0,:])])"
   ]
  },
  {
   "cell_type": "code",
   "execution_count": null,
   "metadata": {},
   "outputs": [],
   "source": [
    "b_a[:,381]"
   ]
  },
  {
   "cell_type": "code",
   "execution_count": null,
   "metadata": {},
   "outputs": [],
   "source": [
    "b_a[:,np.nonzero(dp5.b[0]!=b_a[0,:])]"
   ]
  },
  {
   "cell_type": "code",
   "execution_count": null,
   "metadata": {},
   "outputs": [],
   "source": []
  }
 ],
 "metadata": {
  "kernelspec": {
   "display_name": "Python 3",
   "language": "python",
   "name": "python3"
  },
  "language_info": {
   "codemirror_mode": {
    "name": "ipython",
    "version": 3
   },
   "file_extension": ".py",
   "mimetype": "text/x-python",
   "name": "python",
   "nbconvert_exporter": "python",
   "pygments_lexer": "ipython3",
   "version": "3.8.2"
  }
 },
 "nbformat": 4,
 "nbformat_minor": 2
}
